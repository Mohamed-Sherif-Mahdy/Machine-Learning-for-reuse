{
  "nbformat": 4,
  "nbformat_minor": 0,
  "metadata": {
    "kernelspec": {
      "language": "python",
      "display_name": "Python 3",
      "name": "python3"
    },
    "language_info": {
      "pygments_lexer": "ipython3",
      "nbconvert_exporter": "python",
      "version": "3.6.4",
      "file_extension": ".py",
      "codemirror_mode": {
        "name": "ipython",
        "version": 3
      },
      "name": "python",
      "mimetype": "text/x-python"
    },
    "colab": {
      "name": "generic_ds_pipeline_LGBM_ASHRA.ipynb",
      "provenance": [],
      "collapsed_sections": [
        "RA1TM7acAl1K",
        "1L9sZGIGAl1P",
        "gCc_kRGKAl1b",
        "ihfTbsJeAl1g",
        "fHw7rqorAl1j",
        "tubf4BpyAl1l",
        "ecV94AZkAl1w",
        "4HbNWMgAAl1-",
        "7Owk7uvOAl2F"
      ],
      "include_colab_link": true
    }
  },
  "cells": [
    {
      "cell_type": "markdown",
      "metadata": {
        "id": "view-in-github",
        "colab_type": "text"
      },
      "source": [
        "<a href=\"https://colab.research.google.com/github/Mohamed-Sherif-Mahdy/Machine-Learning-for-reuse/blob/main/generic_ds_pipeline_LGBM_ASHRA.ipynb\" target=\"_parent\"><img src=\"https://colab.research.google.com/assets/colab-badge.svg\" alt=\"Open In Colab\"/></a>"
      ]
    },
    {
      "cell_type": "code",
      "metadata": {
        "trusted": true,
        "id": "jRATWYgJAl0Z"
      },
      "source": [
        "import pandas as pd\n",
        "import numpy as np"
      ],
      "execution_count": null,
      "outputs": []
    },
    {
      "cell_type": "code",
      "metadata": {
        "trusted": true,
        "id": "f3v5NLdiAl0e"
      },
      "source": [
        "import os"
      ],
      "execution_count": null,
      "outputs": []
    },
    {
      "cell_type": "markdown",
      "metadata": {
        "id": "I3hjSkLKAl0h"
      },
      "source": [
        "# Get data\n",
        "\n",
        "Download the data if needed, and make the files available locally "
      ]
    },
    {
      "cell_type": "code",
      "metadata": {
        "_uuid": "d629ff2d2480ee46fbb7e2d37f6b5fab8052498a",
        "_cell_guid": "79c7e3d0-c299-4dcb-8224-4455121ee9b0",
        "trusted": true,
        "id": "2BfbBn80Al0i"
      },
      "source": [
        "'''\n",
        "if not kaggle:\n",
        "  !pip install kaggle\n",
        "  from getpass import getpass\n",
        "  import os\n",
        "  user = 'ahmadelsallab'\n",
        "  key = '6b7ffe97ff5bc0656e325b746b72fa31'\n",
        "\n",
        "  if '.kaggle' not in os.listdir('/root'):\n",
        "      !mkdir ~/.kaggle\n",
        "  !touch /root/.kaggle/kaggle.json\n",
        "  !chmod 666 /root/.kaggle/kaggle.json\n",
        "  with open('/root/.kaggle/kaggle.json', 'w') as f:\n",
        "      f.write('{\"username\":\"%s\",\"key\":\"%s\"}' % (user, key))\n",
        "  !chmod 600 /root/.kaggle/kaggle.json\n",
        "\n",
        "  !kaggle competitions download -c ashrae-energy-prediction\n",
        "\n",
        "  !unzip -n train.csv.zip\n",
        "  !unzip -n weather_train.csv.zip\n",
        "  !unzip -n building_metadata.csv.zip\n",
        "  !unzip -n test.csv.zip\n",
        "  !unzip -n weather_test.csv.zip    \n",
        "  return '.'\n",
        "  '''\n",
        "def get_data_from_kaggle(data_info):\n",
        "    \n",
        "    # Authenticate and authorize kaggle user\n",
        "    !pip install kaggle\n",
        "    from getpass import getpass\n",
        "\n",
        "    user = data_info['user_info']['user']\n",
        "    key = data_info['user_info']['key']\n",
        "\n",
        "    if '.kaggle' not in os.listdir('/root'):\n",
        "        !mkdir ~/.kaggle\n",
        "    !touch /root/.kaggle/kaggle.json\n",
        "    !chmod 666 /root/.kaggle/kaggle.json\n",
        "    with open('/root/.kaggle/kaggle.json', 'w') as f:\n",
        "        f.write('{\"username\":\"%s\",\"key\":\"%s\"}' % (user, key))\n",
        "    !chmod 600 /root/.kaggle/kaggle.json\n",
        "\n",
        "    # Download data\n",
        "    !kaggle competitions download -c {data_info['competetion_name']}\n",
        "    \n",
        "    # Unzip files\n",
        "    for file in data_info['zip_files']:\n",
        "        !unzip -n {file}\n"
      ],
      "execution_count": null,
      "outputs": []
    },
    {
      "cell_type": "code",
      "metadata": {
        "trusted": true,
        "id": "YxizynWCAl0m"
      },
      "source": [
        "def get_data(**kwargs):\n",
        "    kaggle = kwargs.get('kaggle', False)\n",
        "    data_info = kwargs['data_info']\n",
        "    if not kaggle:\n",
        "        get_data_from_kaggle(data_info=data_info)\n",
        "        data_path = '.'\n",
        "    else:\n",
        "        import os\n",
        "        data_path = os.path.join(data_info.get('kaggle_data_path', '.'), data_info['competetion_name'])\n",
        "        for dirname, _, filenames in os.walk(data_path):\n",
        "          for filename in filenames:\n",
        "              print(os.path.join(dirname, filename))        \n",
        "                                 \n",
        "    return data_path"
      ],
      "execution_count": null,
      "outputs": []
    },
    {
      "cell_type": "code",
      "metadata": {
        "trusted": true,
        "id": "4sKwpcOUAl0p",
        "outputId": "30fc11c3-97fb-44ec-e359-515822a30d85"
      },
      "source": [
        "\n",
        "kaggle=True\n",
        "\n",
        "\n",
        "data_info = {\n",
        "    'source': 'kaggle',\n",
        "    'user_info': \n",
        "    {\n",
        "        'user': 'ahmadelsallab',\n",
        "        'key' : '6b7ffe97ff5bc0656e325b746b72fa31',\n",
        "    },\n",
        "\n",
        "    'competetion_name': 'ashrae-energy-prediction',\n",
        "\n",
        "    'zip_files': ['train.csv.zip', 'weather_train.csv.zip', 'test.csv.zip', 'weather_test.csv.zip', 'building_metadata.csv.zip'],\n",
        "    \n",
        "    'kaggle_data_path': '/kaggle/input',\n",
        "    \n",
        "}\n",
        "\n",
        "\n",
        "data_path = get_data(kaggle=kaggle, data_info=data_info)\n"
      ],
      "execution_count": null,
      "outputs": [
        {
          "output_type": "stream",
          "text": [
            "/kaggle/input/ashrae-energy-prediction/test.csv\n",
            "/kaggle/input/ashrae-energy-prediction/building_metadata.csv\n",
            "/kaggle/input/ashrae-energy-prediction/train.csv\n",
            "/kaggle/input/ashrae-energy-prediction/weather_test.csv\n",
            "/kaggle/input/ashrae-energy-prediction/sample_submission.csv\n",
            "/kaggle/input/ashrae-energy-prediction/weather_train.csv\n"
          ],
          "name": "stdout"
        }
      ]
    },
    {
      "cell_type": "markdown",
      "metadata": {
        "id": "uoWmFZjIAl0t"
      },
      "source": [
        "# Load data\n",
        "Load data from files into dataframe\n"
      ]
    },
    {
      "cell_type": "code",
      "metadata": {
        "trusted": true,
        "id": "mLCysncAAl0u"
      },
      "source": [
        "\n",
        "def load_data(**kwargs)->pd.DataFrame:\n",
        "    path = kwargs['path']\n",
        "    building_path = kwargs['building_path']\n",
        "    weather_path = kwargs['weather_path']\n",
        "\n",
        "    \n",
        "    return pd.merge(pd.merge(pd.read_csv(path), pd.read_csv(building_path), on='building_id', how='left'), pd.read_csv(weather_path), on=['timestamp','site_id'], how='left')"
      ],
      "execution_count": null,
      "outputs": []
    },
    {
      "cell_type": "code",
      "metadata": {
        "trusted": true,
        "id": "35C7KqGHAl0x"
      },
      "source": [
        "'''\n",
        "kwargs = {}\n",
        "kwargs['path'] = data_path + '/train.csv'\n",
        "kwargs['building_path'] = data_path + '/building_metadata.csv'\n",
        "kwargs['weather_path'] = data_path + '/weather_train.csv'\n",
        "load_data(kwargs)\n",
        "'''\n",
        "train_path = os.path.join(data_path, 'train.csv')\n",
        "building_path = os.path.join(data_path,'building_metadata.csv')\n",
        "weather_train_path = os.path.join(data_path,'weather_train.csv')\n",
        "#train_df = load_data(path=train_path, building_path=building_path, weather_path=weather_train_path)\n",
        "#train_df.head()"
      ],
      "execution_count": null,
      "outputs": []
    },
    {
      "cell_type": "markdown",
      "metadata": {
        "id": "Z3Svb6VSAl02"
      },
      "source": [
        "# Clean data\n",
        "\n",
        "Clean the data:\n",
        "- Missing values imputation\n",
        "- Outliers removal\n",
        "- Memory reduction\n",
        "...."
      ]
    },
    {
      "cell_type": "code",
      "metadata": {
        "trusted": true,
        "id": "ozwBqv1PAl03"
      },
      "source": [
        "'''Function to reduce the DF size'''\n",
        "# source: https://www.kaggle.com/kernels/scriptcontent/3684066/download\n",
        "\n",
        "def reduce_mem_usage(df):\n",
        "    \"\"\" iterate through all the columns of a dataframe and modify the data type\n",
        "        to reduce memory usage.        \n",
        "    \"\"\"\n",
        "    start_mem = df.memory_usage().sum() / 1024**2\n",
        "    print('Memory usage of dataframe is {:.2f} MB'.format(start_mem))\n",
        "    \n",
        "    for col in df.columns:\n",
        "        col_type = df[col].dtype\n",
        "        \n",
        "        if col_type != object:\n",
        "            c_min = df[col].min()\n",
        "            c_max = df[col].max()\n",
        "            if str(col_type)[:3] == 'int':\n",
        "                if c_min > np.iinfo(np.int8).min and c_max < np.iinfo(np.int8).max:\n",
        "                    df[col] = df[col].astype(np.int8)\n",
        "                elif c_min > np.iinfo(np.int16).min and c_max < np.iinfo(np.int16).max:\n",
        "                    df[col] = df[col].astype(np.int16)\n",
        "                elif c_min > np.iinfo(np.int32).min and c_max < np.iinfo(np.int32).max:\n",
        "                    df[col] = df[col].astype(np.int32)\n",
        "                elif c_min > np.iinfo(np.int64).min and c_max < np.iinfo(np.int64).max:\n",
        "                    df[col] = df[col].astype(np.int64)  \n",
        "            else:\n",
        "                if c_min > np.finfo(np.float16).min and c_max < np.finfo(np.float16).max:\n",
        "                    df[col] = df[col].astype(np.float16)\n",
        "                elif c_min > np.finfo(np.float32).min and c_max < np.finfo(np.float32).max:\n",
        "                    df[col] = df[col].astype(np.float32)\n",
        "                else:\n",
        "                    df[col] = df[col].astype(np.float64)\n",
        "        else:\n",
        "            df[col] = df[col].astype('category')\n",
        "\n",
        "    end_mem = df.memory_usage().sum() / 1024**2\n",
        "    print('Memory usage after optimization is: {:.2f} MB'.format(end_mem))\n",
        "    print('Decreased by {:.1f}%'.format(100 * (start_mem - end_mem) / start_mem))\n",
        "    \n",
        "    return df"
      ],
      "execution_count": null,
      "outputs": []
    },
    {
      "cell_type": "code",
      "metadata": {
        "trusted": true,
        "id": "PeEifWvcAl06"
      },
      "source": [
        "def clean_data(df:pd.DataFrame) -> pd.DataFrame:\n",
        "    df = reduce_mem_usage(df)\n",
        "    return df"
      ],
      "execution_count": null,
      "outputs": []
    },
    {
      "cell_type": "code",
      "metadata": {
        "trusted": true,
        "id": "RAmq73R7Al08"
      },
      "source": [
        "#train_df = clean_data(train_df)"
      ],
      "execution_count": null,
      "outputs": []
    },
    {
      "cell_type": "markdown",
      "metadata": {
        "id": "zKcUF-SQAl0_"
      },
      "source": [
        "# Features extraction\n",
        "\n",
        "Features engineering, derived features, features selection,..etc"
      ]
    },
    {
      "cell_type": "code",
      "metadata": {
        "trusted": true,
        "id": "LwzoTvcdAl1A"
      },
      "source": [
        "# Select features\n",
        "#features = ['meter','site_id','building_id','primary_use','square_feet','year_built','floor_count','air_temperature','dew_temperature','cloud_coverage','wind_direction','wind_speed','precip_depth_1_hr','hour','weekday', 'day', 'month', 'season']\n",
        "numerical_features = ['square_feet', 'air_temperature', 'dew_temperature', 'precip_depth_1_hr'] \n",
        "cat_features = ['meter', 'site_id', 'building_id']\n",
        "skewed_features = ['square_feet']\n",
        "nominal_features = ['primary_use']\n",
        "target_var = 'meter_reading'"
      ],
      "execution_count": null,
      "outputs": []
    },
    {
      "cell_type": "code",
      "metadata": {
        "trusted": true,
        "id": "DKymygHdAl1D"
      },
      "source": [
        "def extract_features(df: pd.DataFrame, **kwargs) -> pd.DataFrame:\n",
        "    features = kwargs.get('features', None)\n",
        "    # Derive new features\n",
        "    df[\"timestamp\"] = pd.to_datetime(df[\"timestamp\"])\n",
        "    df[\"hour\"] = df[\"timestamp\"].dt.hour\n",
        "    df[\"day\"] = df[\"timestamp\"].dt.day\n",
        "    df[\"weekday\"] = df[\"timestamp\"].dt.weekday_name \n",
        "    df[\"month\"] = df[\"timestamp\"].dt.month\n",
        "    df['year'] = df['timestamp'].dt.year   \n",
        "    month_to_season = lambda month:(month%12 + 3)//3\n",
        "    df['season'] = df['month'].apply(month_to_season)\n",
        "            \n",
        "    # Select only the needed features\n",
        "    if features:\n",
        "        df = df[features]\n",
        "    \n",
        "    return df"
      ],
      "execution_count": null,
      "outputs": []
    },
    {
      "cell_type": "code",
      "metadata": {
        "trusted": true,
        "id": "HVyChzYKAl1H"
      },
      "source": [
        "#train_df = extract_features(train_df, features=numerical_features+cat_features+nominal_features+[target_var])\n",
        "#train_df.head()"
      ],
      "execution_count": null,
      "outputs": []
    },
    {
      "cell_type": "markdown",
      "metadata": {
        "id": "RA1TM7acAl1K"
      },
      "source": [
        "# Encode features\n",
        "\n",
        "Transform and digitize/binarize features:\n",
        "- Nominal to numerical features (LabelEncoder)\n",
        "- OneHotEncoding (OHE) (not needed for Enitity Embedding)\n",
        "- Normalization if needed (Not needed for DecisionTrees)(StandardScaler or MinMaxScaler) \n",
        "...."
      ]
    },
    {
      "cell_type": "code",
      "metadata": {
        "trusted": true,
        "id": "OSJdicfyAl1K"
      },
      "source": [
        "from sklearn.preprocessing import OneHotEncoder\n",
        "from sklearn.preprocessing import LabelEncoder, StandardScaler, MinMaxScaler\n",
        "def encode_features(df: pd.DataFrame, **kwargs) -> pd.DataFrame:\n",
        "    \n",
        "    numerical_features = kwargs.get('numerical_features', None)\n",
        "    cat_features = kwargs.get('cat_features', None)\n",
        "    nominal_features = kwargs.get('nominal_features', None) \n",
        "    skewed_features = kwargs.get('skewed_features', None)\n",
        "    \n",
        "    # Handle skewed features\n",
        "    if skewed_features:\n",
        "        df[skewed_features] =  np.log1p(df[skewed_features])\n",
        "    \n",
        "    # Normalized numerical_features\n",
        "    if numerical_features:\n",
        "        df[numerical_features] = pd.DataFrame(MinMaxScaler().fit_transform(df[numerical_features].values), index=df.index, columns=numerical_features)\n",
        "    \n",
        "    # OHE cat features (not for DT)\n",
        "    #df[cat_features] = pd.DataFrame(OneHotEncoder().fit_transform(df[cat_features].values), index=df.index, columns=cat_features)\n",
        "    # Encode Categorical Data\n",
        "    if nominal_features:\n",
        "        le = LabelEncoder()    \n",
        "        df[nominal_features] = pd.DataFrame(le.fit_transform(df[nominal_features].values), index=df.index, columns=nominal_features)\n",
        "\n",
        "    \n",
        "    return df"
      ],
      "execution_count": null,
      "outputs": []
    },
    {
      "cell_type": "code",
      "metadata": {
        "trusted": true,
        "id": "VgNEwj2HAl1N"
      },
      "source": [
        "#train_df = encode_features(train_df, numerical_features, cat_features, nominal_features, skewed_features)\n",
        "#train_df.head()"
      ],
      "execution_count": null,
      "outputs": []
    },
    {
      "cell_type": "markdown",
      "metadata": {
        "id": "1L9sZGIGAl1P"
      },
      "source": [
        "# Data preprocessing pipeline\n"
      ]
    },
    {
      "cell_type": "code",
      "metadata": {
        "trusted": true,
        "id": "ig8XcKfOAl1Q"
      },
      "source": [
        "# FIXME: sklearn pipeline\n",
        "def data_pipeline(**kwargs):\n",
        "    path = kwargs.get('path', '.')\n",
        "    building_path = kwargs['building_path']\n",
        "    weather_path = kwargs['weather_path']\n",
        "    numerical_features = kwargs.get('numerical_features', None)\n",
        "    cat_features = kwargs.get('cat_features', None)\n",
        "    nominal_features = kwargs.get('nominal_features', None)\n",
        "    skewed_features = kwargs.get('skewed_features', None)\n",
        "    target_var = kwargs.get('target_var', None)\n",
        "    size = kwargs.get('size', None)\n",
        "    \n",
        "    if size != None:\n",
        "        df = load_data(path=path, building_path=building_path, weather_path=weather_path)[:size]\n",
        "    else:\n",
        "        df = load_data(path=path, building_path=building_path, weather_path=weather_path)\n",
        "    df = clean_data(df)\n",
        "    if target_var:\n",
        "        features = numerical_features+cat_features+nominal_features+[target_var]\n",
        "    else:\n",
        "        features = numerical_features+cat_features+nominal_features\n",
        "    df = extract_features(df, features=features)\n",
        "    df = encode_features(df, \n",
        "                         numerical_features=numerical_features, \n",
        "                         cat_features=cat_features, \n",
        "                         nominal_features=nominal_features, \n",
        "                         skewed_features=skewed_features)\n",
        "    \n",
        "    return df\n",
        "    #return encode_features(extract_features(clean_data(load_data(path=path))))"
      ],
      "execution_count": null,
      "outputs": []
    },
    {
      "cell_type": "code",
      "metadata": {
        "trusted": true,
        "id": "fSbl3qF7Al1T",
        "outputId": "d87f9ae7-38da-407c-d2ae-ba84087f9a9b"
      },
      "source": [
        "size = 1000\n",
        "train_df = data_pipeline(path=train_path,\n",
        "                         building_path=building_path,\n",
        "                         weather_path=weather_train_path,\n",
        "                         numerical_features=numerical_features, \n",
        "                         cat_features=cat_features, \n",
        "                         nominal_features=nominal_features, \n",
        "                         skewed_features=skewed_features,\n",
        "                         target_var=target_var,\n",
        "                         size=size)"
      ],
      "execution_count": null,
      "outputs": [
        {
          "output_type": "stream",
          "text": [
            "Memory usage of dataframe is 0.13 MB\n",
            "Memory usage after optimization is: 0.04 MB\n",
            "Decreased by 67.0%\n"
          ],
          "name": "stdout"
        },
        {
          "output_type": "stream",
          "text": [
            "/opt/conda/lib/python3.6/site-packages/sklearn/preprocessing/data.py:355: RuntimeWarning: All-NaN slice encountered\n",
            "  data_min = np.nanmin(X, axis=0)\n",
            "/opt/conda/lib/python3.6/site-packages/sklearn/preprocessing/data.py:356: RuntimeWarning: All-NaN slice encountered\n",
            "  data_max = np.nanmax(X, axis=0)\n",
            "/opt/conda/lib/python3.6/site-packages/sklearn/preprocessing/label.py:235: DataConversionWarning: A column-vector y was passed when a 1d array was expected. Please change the shape of y to (n_samples, ), for example using ravel().\n",
            "  y = column_or_1d(y, warn=True)\n"
          ],
          "name": "stderr"
        }
      ]
    },
    {
      "cell_type": "code",
      "metadata": {
        "trusted": true,
        "id": "YSSC1xPnAl1X",
        "outputId": "1b248968-77d3-4828-d963-b2a6036dadd3"
      },
      "source": [
        "train_df.head()"
      ],
      "execution_count": null,
      "outputs": [
        {
          "output_type": "execute_result",
          "data": {
            "text/plain": [
              "   square_feet  air_temperature  dew_temperature  precip_depth_1_hr  meter  \\\n",
              "0     0.407863              1.0              1.0                NaN      0   \n",
              "1     0.282316              1.0              1.0                NaN      0   \n",
              "2     0.367410              1.0              1.0                NaN      0   \n",
              "3     0.552652              1.0              1.0                NaN      0   \n",
              "4     0.751783              1.0              1.0                NaN      0   \n",
              "\n",
              "   site_id  building_id  primary_use  meter_reading  \n",
              "0        0            0            0            0.0  \n",
              "1        0            1            0            0.0  \n",
              "2        0            2            0            0.0  \n",
              "3        0            3            0            0.0  \n",
              "4        0            4            0            0.0  "
            ],
            "text/html": [
              "<div>\n",
              "<style scoped>\n",
              "    .dataframe tbody tr th:only-of-type {\n",
              "        vertical-align: middle;\n",
              "    }\n",
              "\n",
              "    .dataframe tbody tr th {\n",
              "        vertical-align: top;\n",
              "    }\n",
              "\n",
              "    .dataframe thead th {\n",
              "        text-align: right;\n",
              "    }\n",
              "</style>\n",
              "<table border=\"1\" class=\"dataframe\">\n",
              "  <thead>\n",
              "    <tr style=\"text-align: right;\">\n",
              "      <th></th>\n",
              "      <th>square_feet</th>\n",
              "      <th>air_temperature</th>\n",
              "      <th>dew_temperature</th>\n",
              "      <th>precip_depth_1_hr</th>\n",
              "      <th>meter</th>\n",
              "      <th>site_id</th>\n",
              "      <th>building_id</th>\n",
              "      <th>primary_use</th>\n",
              "      <th>meter_reading</th>\n",
              "    </tr>\n",
              "  </thead>\n",
              "  <tbody>\n",
              "    <tr>\n",
              "      <th>0</th>\n",
              "      <td>0.407863</td>\n",
              "      <td>1.0</td>\n",
              "      <td>1.0</td>\n",
              "      <td>NaN</td>\n",
              "      <td>0</td>\n",
              "      <td>0</td>\n",
              "      <td>0</td>\n",
              "      <td>0</td>\n",
              "      <td>0.0</td>\n",
              "    </tr>\n",
              "    <tr>\n",
              "      <th>1</th>\n",
              "      <td>0.282316</td>\n",
              "      <td>1.0</td>\n",
              "      <td>1.0</td>\n",
              "      <td>NaN</td>\n",
              "      <td>0</td>\n",
              "      <td>0</td>\n",
              "      <td>1</td>\n",
              "      <td>0</td>\n",
              "      <td>0.0</td>\n",
              "    </tr>\n",
              "    <tr>\n",
              "      <th>2</th>\n",
              "      <td>0.367410</td>\n",
              "      <td>1.0</td>\n",
              "      <td>1.0</td>\n",
              "      <td>NaN</td>\n",
              "      <td>0</td>\n",
              "      <td>0</td>\n",
              "      <td>2</td>\n",
              "      <td>0</td>\n",
              "      <td>0.0</td>\n",
              "    </tr>\n",
              "    <tr>\n",
              "      <th>3</th>\n",
              "      <td>0.552652</td>\n",
              "      <td>1.0</td>\n",
              "      <td>1.0</td>\n",
              "      <td>NaN</td>\n",
              "      <td>0</td>\n",
              "      <td>0</td>\n",
              "      <td>3</td>\n",
              "      <td>0</td>\n",
              "      <td>0.0</td>\n",
              "    </tr>\n",
              "    <tr>\n",
              "      <th>4</th>\n",
              "      <td>0.751783</td>\n",
              "      <td>1.0</td>\n",
              "      <td>1.0</td>\n",
              "      <td>NaN</td>\n",
              "      <td>0</td>\n",
              "      <td>0</td>\n",
              "      <td>4</td>\n",
              "      <td>0</td>\n",
              "      <td>0.0</td>\n",
              "    </tr>\n",
              "  </tbody>\n",
              "</table>\n",
              "</div>"
            ]
          },
          "metadata": {
            "tags": []
          },
          "execution_count": 18
        }
      ]
    },
    {
      "cell_type": "markdown",
      "metadata": {
        "id": "gCc_kRGKAl1b"
      },
      "source": [
        "# Model\n",
        "## Build"
      ]
    },
    {
      "cell_type": "code",
      "metadata": {
        "trusted": true,
        "id": "OynyB63-Al1b"
      },
      "source": [
        "import lightgbm as lgb\n",
        "def build_model():## (arch)->Model\n",
        "    \n",
        "    return lgb"
      ],
      "execution_count": null,
      "outputs": []
    },
    {
      "cell_type": "code",
      "metadata": {
        "trusted": true,
        "id": "JCz-vWllAl1e"
      },
      "source": [
        "model = build_model()"
      ],
      "execution_count": null,
      "outputs": []
    },
    {
      "cell_type": "markdown",
      "metadata": {
        "id": "ihfTbsJeAl1g"
      },
      "source": [
        "# Fit"
      ]
    },
    {
      "cell_type": "code",
      "metadata": {
        "trusted": true,
        "id": "kOP_F3zzAl1g"
      },
      "source": [
        "def fit(model, **kwargs):#x_train, y_train, x_val=None, y_val=None):\n",
        "    x_train = kwargs['x_train']\n",
        "    y_train = kwargs['y_train']\n",
        "    x_val = kwargs['x_val']\n",
        "    y_val = kwargs['y_val']\n",
        "    params = kwargs['params']\n",
        "    categorical_features = kwargs['categorical_features']\n",
        "    \n",
        "    d_training = model.Dataset(x_train, label=y_train, categorical_feature=categorical_features, free_raw_data=False)\n",
        "    d_test = model.Dataset(x_val, label=y_val, categorical_feature=categorical_features, free_raw_data=False)\n",
        "\n",
        "    model = model.train(params, train_set=d_training, num_boost_round=1000, valid_sets=[d_training,d_test], verbose_eval=25, early_stopping_rounds=50)\n",
        "    \n",
        "    return model\n",
        "    "
      ],
      "execution_count": null,
      "outputs": []
    },
    {
      "cell_type": "markdown",
      "metadata": {
        "id": "fHw7rqorAl1j"
      },
      "source": [
        "## Predict"
      ]
    },
    {
      "cell_type": "code",
      "metadata": {
        "trusted": true,
        "id": "HXk1Ik9fAl1j"
      },
      "source": [
        "def predict(model, data):\n",
        "    preds = np.expm1(model.predict(data, num_iteration=model.best_iteration))\n",
        "    return preds\n",
        "    "
      ],
      "execution_count": null,
      "outputs": []
    },
    {
      "cell_type": "markdown",
      "metadata": {
        "id": "tubf4BpyAl1l"
      },
      "source": [
        "# Evaluate"
      ]
    },
    {
      "cell_type": "code",
      "metadata": {
        "trusted": true,
        "id": "rjkzvaihAl1m"
      },
      "source": [
        "from sklearn.metrics import mean_squared_log_error as msle, mean_squared_error as mse\n",
        "\n",
        "def evaluate(gt, preds):\n",
        "    score = np.sqrt(mse(gt, preds))# we use mse not msle since we already make y_val as np.log1p and so the y_pred\n",
        "    return score"
      ],
      "execution_count": null,
      "outputs": []
    },
    {
      "cell_type": "code",
      "metadata": {
        "trusted": true,
        "id": "8NYfup40Al1r"
      },
      "source": [
        "def get_preds(models, data):\n",
        "    preds = []\n",
        "    for model in models:\n",
        "        if  preds == []:\n",
        "            preds = predict(model, data)\n",
        "        else:\n",
        "            preds += predict(model, data)\n",
        "    preds /= len(models) \n",
        "    return preds"
      ],
      "execution_count": null,
      "outputs": []
    },
    {
      "cell_type": "markdown",
      "metadata": {
        "id": "ecV94AZkAl1w"
      },
      "source": [
        "# Train\n",
        "Fit the model to data\n",
        "\n",
        "Inside, you may:\n",
        "- Cross validation\n",
        "- Split train test\n",
        "\n",
        "Then you run the train loop, based on the training protocol\n",
        "\n",
        "The output is a trained model"
      ]
    },
    {
      "cell_type": "code",
      "metadata": {
        "trusted": true,
        "id": "lGRgj00kAl1w",
        "outputId": "f708443c-658d-455e-cb1c-8ddf3a23cf1e"
      },
      "source": [
        "from sklearn.model_selection import KFold\n",
        "'''\n",
        "def train(model, df:pd.DataFrame, target_var:str):#-> Model\n",
        "\n",
        "    # Handle skew in target\n",
        "    df[target_var] = df[target_var].apply(np.log1p)\n",
        "    \n",
        "    features = df.drop(target_var, axis = 1)\n",
        "    target = df[target_var]\n",
        "    \n",
        "    kf = KFold(n_splits=3)\n",
        "    models = []\n",
        "    for train_index,test_index in kf.split(features):\n",
        "        train_features = features.loc[train_index]\n",
        "        train_target = target.loc[train_index]\n",
        "\n",
        "        test_features = features.loc[test_index]\n",
        "        test_target = target.loc[test_index]\n",
        "\n",
        "        model = fit(model, train_features, train_target, test_features, test_target)\n",
        "        models.append(model)\n",
        "        del train_features, train_target, test_features, test_target\n",
        "        gc.collect()\n",
        "    return models\n",
        "'''\n"
      ],
      "execution_count": null,
      "outputs": [
        {
          "output_type": "execute_result",
          "data": {
            "text/plain": [
              "'\\ndef train(model, df:pd.DataFrame, target_var:str):#-> Model\\n\\n    # Handle skew in target\\n    df[target_var] = df[target_var].apply(np.log1p)\\n    \\n    features = df.drop(target_var, axis = 1)\\n    target = df[target_var]\\n    \\n    kf = KFold(n_splits=3)\\n    models = []\\n    for train_index,test_index in kf.split(features):\\n        train_features = features.loc[train_index]\\n        train_target = target.loc[train_index]\\n\\n        test_features = features.loc[test_index]\\n        test_target = target.loc[test_index]\\n\\n        model = fit(model, train_features, train_target, test_features, test_target)\\n        models.append(model)\\n        del train_features, train_target, test_features, test_target\\n        gc.collect()\\n    return models\\n'"
            ]
          },
          "metadata": {
            "tags": []
          },
          "execution_count": 25
        }
      ]
    },
    {
      "cell_type": "code",
      "metadata": {
        "trusted": true,
        "id": "UVSnxNmDAl1y"
      },
      "source": [
        "from sklearn.model_selection import KFold, train_test_split\n",
        "def train(model, data:pd.DataFrame, **kwargs):#-> Model\n",
        "    categorical_features = kwargs['categorical_features']\n",
        "    target_var = kwargs['target_var']\n",
        "    # Handle skew in target\n",
        "    data[target_var] = data[target_var].apply(np.log1p)\n",
        "    \n",
        "    features = data.drop(target_var, axis = 1)\n",
        "    target = data[target_var]\n",
        "    x_train, x_val, y_train, y_val = train_test_split(features, target, test_size=0.2, random_state=42)\n",
        "\n",
        "    \n",
        "    params = {\n",
        "        \"objective\": \"regression\",\n",
        "        \"boosting\": \"gbdt\",\n",
        "        \"num_leaves\": 1280,\n",
        "        \"learning_rate\": 0.05,\n",
        "        \"feature_fraction\": 0.85,\n",
        "        \"reg_lambda\": 2,\n",
        "        \"metric\": \"rmse\",\n",
        "    }\n",
        "    \n",
        "    model = fit(model, x_train=x_train, y_train=y_train, x_val=x_val, y_val=y_val, params=params, categorical_features=categorical_features)\n",
        "    \n",
        "    #print('Score on validation data: ', evaluate(y_val, get_preds([model], x_val)))\n",
        "    return model\n",
        "\n"
      ],
      "execution_count": null,
      "outputs": []
    },
    {
      "cell_type": "code",
      "metadata": {
        "trusted": true,
        "id": "vqZMLpDMAl12",
        "outputId": "fb22449f-98e9-40cd-ba5d-4f0953ac79f8"
      },
      "source": [
        "categorical_features = cat_features + nominal_features # nominal are not categorical after encoding\n",
        "model = train(model, train_df, target_var=target_var, categorical_features=categorical_features)"
      ],
      "execution_count": null,
      "outputs": [
        {
          "output_type": "stream",
          "text": [
            "/opt/conda/lib/python3.6/site-packages/lightgbm/basic.py:1291: UserWarning: Using categorical_feature in Dataset.\n",
            "  warnings.warn('Using categorical_feature in Dataset.')\n"
          ],
          "name": "stderr"
        },
        {
          "output_type": "stream",
          "text": [
            "Training until validation scores don't improve for 50 rounds\n",
            "[25]\ttraining's rmse: 1.26445\tvalid_1's rmse: 1.46751\n",
            "[50]\ttraining's rmse: 1.10381\tvalid_1's rmse: 1.42168\n",
            "[75]\ttraining's rmse: 1.03756\tvalid_1's rmse: 1.42064\n",
            "[100]\ttraining's rmse: 0.985275\tvalid_1's rmse: 1.43563\n",
            "[125]\ttraining's rmse: 0.948226\tvalid_1's rmse: 1.43903\n",
            "Early stopping, best iteration is:\n",
            "[75]\ttraining's rmse: 1.03756\tvalid_1's rmse: 1.42064\n"
          ],
          "name": "stdout"
        }
      ]
    },
    {
      "cell_type": "code",
      "metadata": {
        "trusted": true,
        "id": "pOaMN1qeAl14",
        "outputId": "e00ae640-e5a6-4977-f0d8-fee95d9f14f8"
      },
      "source": [
        "x_val = train_df[:100].drop(target_var, axis = 1)\n",
        "y_val = train_df[:100][target_var]\n",
        "\n",
        "print('MSE on validation data: ', evaluate(y_val, get_preds([model], x_val)))\n"
      ],
      "execution_count": null,
      "outputs": [
        {
          "output_type": "stream",
          "text": [
            "MSE on validation data:  0.6335885952796304\n"
          ],
          "name": "stdout"
        }
      ]
    },
    {
      "cell_type": "code",
      "metadata": {
        "trusted": true,
        "id": "Z2h0xNLlAl16",
        "outputId": "4f830342-38d0-4030-8bff-7f762b4a168e"
      },
      "source": [
        "'''\n",
        "for model in models:\n",
        "    lgb.plot_importance(model)\n",
        "    plt.show()\n",
        "'''"
      ],
      "execution_count": null,
      "outputs": [
        {
          "output_type": "error",
          "ename": "NameError",
          "evalue": "name 'models' is not defined",
          "traceback": [
            "\u001b[0;31m---------------------------------------------------------------------------\u001b[0m",
            "\u001b[0;31mNameError\u001b[0m                                 Traceback (most recent call last)",
            "\u001b[0;32m<ipython-input-29-5bb7e3178748>\u001b[0m in \u001b[0;36m<module>\u001b[0;34m\u001b[0m\n\u001b[0;32m----> 1\u001b[0;31m \u001b[0;32mfor\u001b[0m \u001b[0mmodel\u001b[0m \u001b[0;32min\u001b[0m \u001b[0mmodels\u001b[0m\u001b[0;34m:\u001b[0m\u001b[0;34m\u001b[0m\u001b[0m\n\u001b[0m\u001b[1;32m      2\u001b[0m     \u001b[0mlgb\u001b[0m\u001b[0;34m.\u001b[0m\u001b[0mplot_importance\u001b[0m\u001b[0;34m(\u001b[0m\u001b[0mmodel\u001b[0m\u001b[0;34m)\u001b[0m\u001b[0;34m\u001b[0m\u001b[0m\n\u001b[1;32m      3\u001b[0m     \u001b[0mplt\u001b[0m\u001b[0;34m.\u001b[0m\u001b[0mshow\u001b[0m\u001b[0;34m(\u001b[0m\u001b[0;34m)\u001b[0m\u001b[0;34m\u001b[0m\u001b[0m\n",
            "\u001b[0;31mNameError\u001b[0m: name 'models' is not defined"
          ]
        }
      ]
    },
    {
      "cell_type": "markdown",
      "metadata": {
        "id": "4HbNWMgAAl1-"
      },
      "source": [
        "# Test"
      ]
    },
    {
      "cell_type": "code",
      "metadata": {
        "trusted": true,
        "id": "kuLW31G9Al1-",
        "outputId": "5af7fad8-9ead-403e-f524-25ad15178193"
      },
      "source": [
        "test_path = os.path.join(data_path, 'test.csv')\n",
        "building_path = os.path.join(data_path,'building_metadata.csv')\n",
        "weather_test_path = os.path.join(data_path,'weather_test.csv')\n",
        "test_df = data_pipeline(path=test_path,\n",
        "                         building_path=building_path,\n",
        "                         weather_path=weather_test_path,\n",
        "                         numerical_features=numerical_features, \n",
        "                         cat_features=cat_features, \n",
        "                         nominal_features=nominal_features, \n",
        "                         skewed_features=skewed_features,\n",
        "                         target_var=None,\n",
        "                         size=size)"
      ],
      "execution_count": null,
      "outputs": [
        {
          "output_type": "stream",
          "text": [
            "Memory usage of dataframe is 0.13 MB\n",
            "Memory usage after optimization is: 0.04 MB\n",
            "Decreased by 67.8%\n"
          ],
          "name": "stdout"
        },
        {
          "output_type": "stream",
          "text": [
            "/opt/conda/lib/python3.6/site-packages/sklearn/preprocessing/label.py:235: DataConversionWarning: A column-vector y was passed when a 1d array was expected. Please change the shape of y to (n_samples, ), for example using ravel().\n",
            "  y = column_or_1d(y, warn=True)\n"
          ],
          "name": "stderr"
        }
      ]
    },
    {
      "cell_type": "code",
      "metadata": {
        "trusted": true,
        "id": "3lEP9rBKAl2B",
        "outputId": "01cc909f-46dd-49ba-a241-c3e1275699f5"
      },
      "source": [
        "test_df.head()"
      ],
      "execution_count": null,
      "outputs": [
        {
          "output_type": "execute_result",
          "data": {
            "text/plain": [
              "   square_feet  air_temperature  dew_temperature  precip_depth_1_hr  meter  \\\n",
              "0     0.438338              1.0              0.0                NaN      0   \n",
              "1     0.303410              1.0              0.0                NaN      0   \n",
              "2     0.394863              1.0              0.0                NaN      0   \n",
              "3     0.593945              1.0              0.0                NaN      0   \n",
              "4     0.807955              1.0              0.0                NaN      0   \n",
              "\n",
              "   site_id  building_id  primary_use  \n",
              "0        0            0            0  \n",
              "1        0            1            0  \n",
              "2        0            2            0  \n",
              "3        0            3            0  \n",
              "4        0            4            0  "
            ],
            "text/html": [
              "<div>\n",
              "<style scoped>\n",
              "    .dataframe tbody tr th:only-of-type {\n",
              "        vertical-align: middle;\n",
              "    }\n",
              "\n",
              "    .dataframe tbody tr th {\n",
              "        vertical-align: top;\n",
              "    }\n",
              "\n",
              "    .dataframe thead th {\n",
              "        text-align: right;\n",
              "    }\n",
              "</style>\n",
              "<table border=\"1\" class=\"dataframe\">\n",
              "  <thead>\n",
              "    <tr style=\"text-align: right;\">\n",
              "      <th></th>\n",
              "      <th>square_feet</th>\n",
              "      <th>air_temperature</th>\n",
              "      <th>dew_temperature</th>\n",
              "      <th>precip_depth_1_hr</th>\n",
              "      <th>meter</th>\n",
              "      <th>site_id</th>\n",
              "      <th>building_id</th>\n",
              "      <th>primary_use</th>\n",
              "    </tr>\n",
              "  </thead>\n",
              "  <tbody>\n",
              "    <tr>\n",
              "      <th>0</th>\n",
              "      <td>0.438338</td>\n",
              "      <td>1.0</td>\n",
              "      <td>0.0</td>\n",
              "      <td>NaN</td>\n",
              "      <td>0</td>\n",
              "      <td>0</td>\n",
              "      <td>0</td>\n",
              "      <td>0</td>\n",
              "    </tr>\n",
              "    <tr>\n",
              "      <th>1</th>\n",
              "      <td>0.303410</td>\n",
              "      <td>1.0</td>\n",
              "      <td>0.0</td>\n",
              "      <td>NaN</td>\n",
              "      <td>0</td>\n",
              "      <td>0</td>\n",
              "      <td>1</td>\n",
              "      <td>0</td>\n",
              "    </tr>\n",
              "    <tr>\n",
              "      <th>2</th>\n",
              "      <td>0.394863</td>\n",
              "      <td>1.0</td>\n",
              "      <td>0.0</td>\n",
              "      <td>NaN</td>\n",
              "      <td>0</td>\n",
              "      <td>0</td>\n",
              "      <td>2</td>\n",
              "      <td>0</td>\n",
              "    </tr>\n",
              "    <tr>\n",
              "      <th>3</th>\n",
              "      <td>0.593945</td>\n",
              "      <td>1.0</td>\n",
              "      <td>0.0</td>\n",
              "      <td>NaN</td>\n",
              "      <td>0</td>\n",
              "      <td>0</td>\n",
              "      <td>3</td>\n",
              "      <td>0</td>\n",
              "    </tr>\n",
              "    <tr>\n",
              "      <th>4</th>\n",
              "      <td>0.807955</td>\n",
              "      <td>1.0</td>\n",
              "      <td>0.0</td>\n",
              "      <td>NaN</td>\n",
              "      <td>0</td>\n",
              "      <td>0</td>\n",
              "      <td>4</td>\n",
              "      <td>0</td>\n",
              "    </tr>\n",
              "  </tbody>\n",
              "</table>\n",
              "</div>"
            ]
          },
          "metadata": {
            "tags": []
          },
          "execution_count": 31
        }
      ]
    },
    {
      "cell_type": "code",
      "metadata": {
        "trusted": true,
        "id": "G5-VEjCXAl2D"
      },
      "source": [
        "#gt = test_df[target]\n",
        "\n",
        "results = get_preds([model], test_df) \n"
      ],
      "execution_count": null,
      "outputs": []
    },
    {
      "cell_type": "markdown",
      "metadata": {
        "id": "7Owk7uvOAl2F"
      },
      "source": [
        "# Submission (on kaggle)"
      ]
    },
    {
      "cell_type": "code",
      "metadata": {
        "trusted": true,
        "id": "w5xXT2G5Al2G"
      },
      "source": [
        "def submit(preds, target, **kwargs):\n",
        "    \n",
        "    path = kwargs['path']\n",
        "    sample_submission_file = kwargs['sample_submission_file']\n",
        "    submission_file = kwargs['submission_file']\n",
        "    kaggle=kwargs['kaggle']\n",
        "    \n",
        "    if kaggle:\n",
        "      sample = pd.read_csv(path+'/'+sample_submission_file)\n",
        "    else:\n",
        "      !unzip -n {sample_submission_file}.zip\n",
        "      sample = pd.read_csv(sample_submission_file)\n",
        "    #sample[target][:1000] = np.clip(preds, 0, a_max=None)\n",
        "    sample.loc[:len(preds)-1, target] = np.clip(preds, 0, a_max=None)\n",
        "    sample.to_csv(submission_file, index=False)\n",
        "\n",
        "    return sample\n",
        "    "
      ],
      "execution_count": null,
      "outputs": []
    },
    {
      "cell_type": "code",
      "metadata": {
        "trusted": true,
        "id": "5Corv_cPAl2I",
        "outputId": "8ccf0ab8-c80f-4b28-e27f-ffb308b9e5b1"
      },
      "source": [
        "submission = submit(results, target_var, path=data_path, sample_submission_file='sample_submission.csv', submission_file='submission.csv', kaggle=kaggle)\n",
        "submission.head()"
      ],
      "execution_count": null,
      "outputs": [
        {
          "output_type": "execute_result",
          "data": {
            "text/plain": [
              "   row_id  meter_reading\n",
              "0       0       0.664729\n",
              "1       1       0.452974\n",
              "2       2       0.567945\n",
              "3       3       1.174288\n",
              "4       4       2.302222"
            ],
            "text/html": [
              "<div>\n",
              "<style scoped>\n",
              "    .dataframe tbody tr th:only-of-type {\n",
              "        vertical-align: middle;\n",
              "    }\n",
              "\n",
              "    .dataframe tbody tr th {\n",
              "        vertical-align: top;\n",
              "    }\n",
              "\n",
              "    .dataframe thead th {\n",
              "        text-align: right;\n",
              "    }\n",
              "</style>\n",
              "<table border=\"1\" class=\"dataframe\">\n",
              "  <thead>\n",
              "    <tr style=\"text-align: right;\">\n",
              "      <th></th>\n",
              "      <th>row_id</th>\n",
              "      <th>meter_reading</th>\n",
              "    </tr>\n",
              "  </thead>\n",
              "  <tbody>\n",
              "    <tr>\n",
              "      <th>0</th>\n",
              "      <td>0</td>\n",
              "      <td>0.664729</td>\n",
              "    </tr>\n",
              "    <tr>\n",
              "      <th>1</th>\n",
              "      <td>1</td>\n",
              "      <td>0.452974</td>\n",
              "    </tr>\n",
              "    <tr>\n",
              "      <th>2</th>\n",
              "      <td>2</td>\n",
              "      <td>0.567945</td>\n",
              "    </tr>\n",
              "    <tr>\n",
              "      <th>3</th>\n",
              "      <td>3</td>\n",
              "      <td>1.174288</td>\n",
              "    </tr>\n",
              "    <tr>\n",
              "      <th>4</th>\n",
              "      <td>4</td>\n",
              "      <td>2.302222</td>\n",
              "    </tr>\n",
              "  </tbody>\n",
              "</table>\n",
              "</div>"
            ]
          },
          "metadata": {
            "tags": []
          },
          "execution_count": 80
        }
      ]
    }
  ]
}